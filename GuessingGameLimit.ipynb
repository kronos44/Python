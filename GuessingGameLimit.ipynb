{
  "nbformat": 4,
  "nbformat_minor": 0,
  "metadata": {
    "colab": {
      "name": "GuessingGameLimit.ipynb",
      "provenance": [],
      "authorship_tag": "ABX9TyOAW4Dog5LSLG82C6uX/jUW",
      "include_colab_link": true
    },
    "kernelspec": {
      "name": "python3",
      "display_name": "Python 3"
    },
    "language_info": {
      "name": "python"
    }
  },
  "cells": [
    {
      "cell_type": "markdown",
      "metadata": {
        "id": "view-in-github",
        "colab_type": "text"
      },
      "source": [
        "<a href=\"https://colab.research.google.com/github/kronos44/Python/blob/main/GuessingGameLimit.ipynb\" target=\"_parent\"><img src=\"https://colab.research.google.com/assets/colab-badge.svg\" alt=\"Open In Colab\"/></a>"
      ]
    },
    {
      "cell_type": "code",
      "execution_count": 3,
      "metadata": {
        "colab": {
          "base_uri": "https://localhost:8080/"
        },
        "id": "rkASXNBOt3x7",
        "outputId": "e700e302-1c63-4322-e655-bba78286c2f5"
      },
      "outputs": [
        {
          "output_type": "stream",
          "name": "stdout",
          "text": [
            "Enter your guess (hint: animal): alla\n",
            "Enter your guess (hint: animal): lion\n",
            "Great! You win!\n"
          ]
        }
      ],
      "source": [
        "guess = \"\"\n",
        "secret_word = \"lion\"\n",
        "guess_count = 0\n",
        "guess_limit = 3\n",
        "out_of_guesses = False\n",
        "\n",
        "while guess != secret_word and not (out_of_guesses):\n",
        "  if guess_count < guess_limit:\n",
        "      guess = input(\"Enter your guess (hint: animal): \")\n",
        "      guess_count +=1\n",
        "  else:\n",
        "    out_of_guesses = True\n",
        "if out_of_guesses:\n",
        "  print(\"Sorry, You lost\")\n",
        "else:\n",
        "  print (\"Great! You win!\")"
      ]
    }
  ]
}