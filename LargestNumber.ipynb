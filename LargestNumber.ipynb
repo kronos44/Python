{
  "nbformat": 4,
  "nbformat_minor": 0,
  "metadata": {
    "colab": {
      "name": "LargestNumber.ipynb",
      "provenance": [],
      "authorship_tag": "ABX9TyOD6aROedNkykmv/DFhgqhZ",
      "include_colab_link": true
    },
    "kernelspec": {
      "name": "python3",
      "display_name": "Python 3"
    },
    "language_info": {
      "name": "python"
    }
  },
  "cells": [
    {
      "cell_type": "markdown",
      "metadata": {
        "id": "view-in-github",
        "colab_type": "text"
      },
      "source": [
        "<a href=\"https://colab.research.google.com/github/kronos44/Python/blob/main/LargestNumber.ipynb\" target=\"_parent\"><img src=\"https://colab.research.google.com/assets/colab-badge.svg\" alt=\"Open In Colab\"/></a>"
      ]
    },
    {
      "cell_type": "code",
      "execution_count": null,
      "metadata": {
        "id": "6IctBHTX8m7Z"
      },
      "outputs": [],
      "source": [
        "num1 = float(input(\"Enter first number: \"))\n",
        "num2 = float(input(\"Enter second number: \"))\n",
        "num3 = float(input(\"Enter third number: \"))\n",
        "num4 = float(input(\"Enter fourth number: \"))\n",
        "num5 = float(input(\"Enter fifth number: \"))\n",
        "\n",
        "if (num1 > num2) and (num1 > num3) and (num1 > num4) and (num1 > num5):\n",
        "    largest = num1\n",
        "elif (num2 > num1) and (num2 > num3) and (num2 > num4) and (num2 > num5):\n",
        "    largest = num2\n",
        "elif (num3 > num1) and (num3 > num2) and (num3 > num4) and (num3 > num5):\n",
        "    largest = num3\n",
        "elif (num4 > num1) and (num4 > num2) and (num4 > num3) and (num4 > num5):\n",
        "    largest = num4\n",
        "else:\n",
        "    largest = num5\n",
        "print(\"The largest number is\",largest)"
      ]
    },
    {
      "cell_type": "code",
      "source": [
        "numberlist =[]\n",
        "\n",
        "num1 = float(input(\"Enter first number: \"))\n",
        "numberlist.append (num1)\n",
        "num2 = float(input(\"Enter second number: \"))\n",
        "numberlist.append (num2)\n",
        "num3 = float(input(\"Enter third number: \"))\n",
        "numberlist.append (num3)\n",
        "num4 = float(input(\"Enter fourth number: \"))\n",
        "numberlist.append (num4)\n",
        "num5 = float(input(\"Enter fifth number: \"))\n",
        "numberlist.append (num5)\n",
        "\n",
        "numberlist.sort()\n",
        "\n",
        "print(\"Largest number is \", numberlist[-1])\n"
      ],
      "metadata": {
        "id": "tCpWGKS49SH6"
      },
      "execution_count": null,
      "outputs": []
    }
  ]
}