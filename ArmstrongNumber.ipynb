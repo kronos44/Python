{
  "nbformat": 4,
  "nbformat_minor": 0,
  "metadata": {
    "colab": {
      "name": "ArmstrongNumber.ipynb",
      "provenance": [],
      "authorship_tag": "ABX9TyMAWYRA0L3mj7Jgh1yu7kjn",
      "include_colab_link": true
    },
    "kernelspec": {
      "name": "python3",
      "display_name": "Python 3"
    },
    "language_info": {
      "name": "python"
    }
  },
  "cells": [
    {
      "cell_type": "markdown",
      "metadata": {
        "id": "view-in-github",
        "colab_type": "text"
      },
      "source": [
        "<a href=\"https://colab.research.google.com/github/kronos44/Python/blob/main/ArmstrongNumber.ipynb\" target=\"_parent\"><img src=\"https://colab.research.google.com/assets/colab-badge.svg\" alt=\"Open In Colab\"/></a>"
      ]
    },
    {
      "cell_type": "markdown",
      "source": [
        "Task:\n",
        "\n",
        "Find out if a given number is an \"Armstrong Number\".\n",
        "\n",
        "An n-digit number that is the sum of the nth powers of its digits is called an n-Armstrong number. Examples :\n",
        "371 = 33 + 73 + 13;\n",
        "9474 = 94 + 44 + 74 + 44;\n",
        "93084 = 95 + 35 + 05 + 85 + 45.\n",
        "\n",
        "Write a Python program that;\n",
        "takes a positive integer number from the user,\n",
        "checks the entered number if it is Armstrong,\n",
        "consider the negative, float and any entries other than numeric values then display a warning message to the user."
      ],
      "metadata": {
        "id": "HLL1Fc5eRdke"
      }
    },
    {
      "cell_type": "code",
      "execution_count": null,
      "metadata": {
        "id": "xvk6K5YzRH7a"
      },
      "outputs": [],
      "source": [
        "num = input(\"Enter a number : \")\n",
        "if not isinstance(num, int) or int(num) <= 0 :\n",
        "  print('''It is an invalid entry.\n",
        "Don't use non-numeric, float, or negative values!''')\n",
        "else:\n",
        " numlist = list(num)\n",
        " z = int(len(numlist))\n",
        " a = 0\n",
        " sum = 0\n",
        " for i in numlist:\n",
        "      a = int(i)**z\n",
        "      sum += int(a)\n",
        " if sum == int(num):\n",
        "      print(f\"{num} is Armstrong number.\")\n",
        " else :\n",
        "    print(f\"{num} is NOT Armstrong number.\")"
      ]
    }
  ]
}