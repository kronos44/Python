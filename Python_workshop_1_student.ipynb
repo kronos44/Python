{
  "cells": [
    {
      "cell_type": "markdown",
      "metadata": {
        "id": "view-in-github",
        "colab_type": "text"
      },
      "source": [
        "<a href=\"https://colab.research.google.com/github/kronos44/Python/blob/main/Python_workshop_1_student.ipynb\" target=\"_parent\"><img src=\"https://colab.research.google.com/assets/colab-badge.svg\" alt=\"Open In Colab\"/></a>"
      ]
    },
    {
      "cell_type": "markdown",
      "metadata": {
        "id": "QVq_ngIGLcAJ"
      },
      "source": [
        "<center><img src=\"https://github.com/aaron-clarusway/fullstack/blob/master/itf-logo.png?raw=true\"  alt=\"alt text\" width=\"200\"/></center>\n",
        "<br>\n",
        "<h1><p style=\"text-align: center; color:darkblue\">Python Basic</p><h1>\n",
        "<center><h1>Workshop - 1</h1></center>\n",
        "<p><img align=\"right\"\n",
        "  src=\"https://secure.meetupstatic.com/photos/event/3/1/b/9/600_488352729.jpeg\"  width=\"15px\"></p>\n",
        "<br>\n",
        "\n",
        "\n",
        "# Subject: Basic Data Types and Useful Operations\n",
        "\n",
        "## Learning Goals\n",
        "\n",
        "* to work with quotes in strings,\n",
        "* to practice basic data types,\n",
        "* to consolidate basic boolean operations."
      ]
    },
    {
      "cell_type": "markdown",
      "metadata": {
        "id": "CAaGAUCTLcAP"
      },
      "source": [
        "### Problem 1\n",
        "\n",
        "Write a program that multiplies three numbers entered by the user. Print the output with the format method."
      ]
    },
    {
      "cell_type": "code",
      "execution_count": null,
      "metadata": {
        "colab": {
          "base_uri": "https://localhost:8080/"
        },
        "id": "qSYs4faWLcAR",
        "outputId": "5b61192a-cf71-4ab6-b27e-0d8d442f9617"
      },
      "outputs": [
        {
          "output_type": "stream",
          "name": "stdout",
          "text": [
            "Please enter number_1: 3\n",
            "Please enter number_2: 2\n",
            "Please enter number_3: 4\n",
            "24\n"
          ]
        }
      ],
      "source": [
        "x=int(input(\"Please enter number_1: \"))\n",
        "y=int(input(\"Please enter number_2: \"))\n",
        "z=int(input(\"Please enter number_3: \"))\n",
        "print(x*y*z)"
      ]
    },
    {
      "cell_type": "markdown",
      "metadata": {
        "id": "iK0tmtP6LcAT"
      },
      "source": [
        "### Problem 2\n",
        "\n",
        "Write a program that calculates body mass index from **height** and **weight** entered by the user. \n",
        "\n",
        "Body mass index :  Weight / Height(m) * Height(m)"
      ]
    },
    {
      "cell_type": "code",
      "execution_count": null,
      "metadata": {
        "colab": {
          "base_uri": "https://localhost:8080/"
        },
        "id": "uBegbKNNLcAV",
        "outputId": "0557ca62-43b7-4faa-8093-2a5cd36e097d"
      },
      "outputs": [
        {
          "output_type": "stream",
          "name": "stdout",
          "text": [
            "Please enter your weight (kg): 88\n",
            "Please enter your height (m): 1.8\n",
            "88.0\n"
          ]
        }
      ],
      "source": [
        "weight=int(input(\"Please enter your weight (kg): \"))\n",
        "height=float(input(\"Please enter your height (m): \"))\n",
        "bmi=weight/height*height\n",
        "print(bmi) "
      ]
    },
    {
      "cell_type": "markdown",
      "metadata": {
        "id": "2fz_FRISLcAV"
      },
      "source": [
        "### Problem 3\n",
        "\n",
        "\n",
        "#### With your $200, how many  pieces of material can you get for $11 each? How much money do you have left after buying?"
      ]
    },
    {
      "cell_type": "code",
      "execution_count": null,
      "metadata": {
        "colab": {
          "base_uri": "https://localhost:8080/"
        },
        "id": "94pUzP6ULcAW",
        "outputId": "ece9cd83-c7d4-44ce-aed7-be55fbd2898e"
      },
      "outputs": [
        {
          "output_type": "stream",
          "name": "stdout",
          "text": [
            "18\n",
            "2\n"
          ]
        }
      ],
      "source": [
        "print(200//11)\n",
        "print(200%11)"
      ]
    },
    {
      "cell_type": "markdown",
      "metadata": {
        "id": "sGQH1hDCLcAX"
      },
      "source": [
        "### Problem 4\n",
        "\n",
        "Get **word**, **seperator** and **repetition** values from the user and print the word on the screen according to the given values. \n",
        "\n",
        "Ex: ``word = ali, sep = /, repetition = 3`` ----> ``ali/ali/ali``"
      ]
    },
    {
      "cell_type": "code",
      "execution_count": null,
      "metadata": {
        "colab": {
          "base_uri": "https://localhost:8080/"
        },
        "id": "y5VUiGeuLcAY",
        "outputId": "434caa1e-0fe7-44d2-9516-ee7e5418c03b"
      },
      "outputs": [
        {
          "output_type": "stream",
          "name": "stdout",
          "text": [
            "Please enter a name: ahmet\n",
            "ahmet/ahmet/ahmet\n"
          ]
        }
      ],
      "source": [
        "word=str(input(\"Please enter a name: \"))\n",
        "\n",
        "print(word, word, word , sep= '/') "
      ]
    },
    {
      "cell_type": "markdown",
      "metadata": {
        "id": "3AJbqQtLLcAZ"
      },
      "source": [
        "### Problem 5\n",
        "\n",
        ">Do not run the code, try to figure out in your mind.\n",
        "\n",
        "What will be the output of the following syntax :\n",
        "\n",
        "```python\n",
        "print(True and False and (not True and False) and not (True or False))\n",
        "```"
      ]
    },
    {
      "cell_type": "code",
      "execution_count": null,
      "metadata": {
        "colab": {
          "base_uri": "https://localhost:8080/"
        },
        "id": "aXmgW9oaLcAa",
        "outputId": "efe9b438-df58-4470-e620-81066ae0c095"
      },
      "outputs": [
        {
          "output_type": "stream",
          "name": "stdout",
          "text": [
            "False\n"
          ]
        }
      ],
      "source": [
        "print(True and False and (not True and False) and not (True or False))"
      ]
    },
    {
      "cell_type": "markdown",
      "metadata": {
        "id": "_tSvF95wLcAa"
      },
      "source": [
        "### Problem 6\n",
        "\n",
        ">Do not run the code, try to figure out in your mind.\n",
        "\n",
        "What will be the output of the following syntax :\n",
        "\n",
        "```python\n",
        "print(True and False and not \"False\" and None and (\"None\" or None))\n",
        "```"
      ]
    },
    {
      "cell_type": "code",
      "execution_count": null,
      "metadata": {
        "colab": {
          "base_uri": "https://localhost:8080/"
        },
        "id": "oYKrEP5pLcAb",
        "outputId": "b090ef43-afd6-42ef-cf9c-2b055cea9770"
      },
      "outputs": [
        {
          "output_type": "stream",
          "name": "stdout",
          "text": [
            "False\n"
          ]
        }
      ],
      "source": [
        "print(True and False and not \"False\" and None and (\"None\" or None))"
      ]
    },
    {
      "cell_type": "markdown",
      "metadata": {
        "id": "2guVwu91LcAb"
      },
      "source": [
        "### Problem 7\n",
        "\n",
        ">Do not run the code, try to figure out in your mind.\n",
        "\n",
        "What will be the output of the following syntax :\n",
        "\n",
        "```python\n",
        "print(\"clarusway\" and 0 and not \"\" and False and (\" \" or None))\n",
        "```"
      ]
    },
    {
      "cell_type": "code",
      "execution_count": null,
      "metadata": {
        "colab": {
          "base_uri": "https://localhost:8080/"
        },
        "id": "B7uTUwlQLcAb",
        "outputId": "720b79ea-1b45-43b1-e1ae-e5e5277cdc97"
      },
      "outputs": [
        {
          "output_type": "stream",
          "name": "stdout",
          "text": [
            "0\n"
          ]
        }
      ],
      "source": [
        "print(\"clarusway\" and 0 and not \"\" and False and (\" \" or None))"
      ]
    }
  ],
  "metadata": {
    "kernelspec": {
      "display_name": "Python 3",
      "language": "python",
      "name": "python3"
    },
    "language_info": {
      "codemirror_mode": {
        "name": "ipython",
        "version": 3
      },
      "file_extension": ".py",
      "mimetype": "text/x-python",
      "name": "python",
      "nbconvert_exporter": "python",
      "pygments_lexer": "ipython3",
      "version": "3.9.6"
    },
    "colab": {
      "name": "Python-workshop-1-student.ipynb",
      "provenance": [],
      "include_colab_link": true
    }
  },
  "nbformat": 4,
  "nbformat_minor": 0
}