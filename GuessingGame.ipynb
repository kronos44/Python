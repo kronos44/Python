{
  "nbformat": 4,
  "nbformat_minor": 0,
  "metadata": {
    "colab": {
      "name": "GuessingGame.ipynb",
      "provenance": [],
      "authorship_tag": "ABX9TyOsw2Qjt94Hb5fL1O+84EQX",
      "include_colab_link": true
    },
    "kernelspec": {
      "name": "python3",
      "display_name": "Python 3"
    },
    "language_info": {
      "name": "python"
    }
  },
  "cells": [
    {
      "cell_type": "markdown",
      "metadata": {
        "id": "view-in-github",
        "colab_type": "text"
      },
      "source": [
        "<a href=\"https://colab.research.google.com/github/kronos44/Python/blob/main/GuessingGame.ipynb\" target=\"_parent\"><img src=\"https://colab.research.google.com/assets/colab-badge.svg\" alt=\"Open In Colab\"/></a>"
      ]
    },
    {
      "cell_type": "code",
      "execution_count": 1,
      "metadata": {
        "colab": {
          "base_uri": "https://localhost:8080/"
        },
        "id": "rkASXNBOt3x7",
        "outputId": "0df7b5bd-149b-4849-b672-64fba8934c42"
      },
      "outputs": [
        {
          "output_type": "stream",
          "name": "stdout",
          "text": [
            "Enter your guess (hint: animal): animal\n",
            "Enter your guess (hint: animal): giraffe\n",
            "Enter your guess (hint: animal): lion\n",
            "Great! You win!\n"
          ]
        }
      ],
      "source": [
        "guess = \"\"\n",
        "secret_word = \"lion\"\n",
        "\n",
        "while guess != secret_word :\n",
        "  guess = input(\"Enter your guess (hint: animal): \")\n",
        "print (\"Great! You win!\")"
      ]
    }
  ]
}